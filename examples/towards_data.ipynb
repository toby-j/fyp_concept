{
 "cells": [
  {
   "cell_type": "code",
   "execution_count": 3,
   "metadata": {
    "collapsed": true
   },
   "outputs": [],
   "source": [
    "import matplotlib.pylab as plt\n",
    "import numpy as np\n",
    "import tensorflow as tf\n",
    "import tensorflow_hub as hub\n",
    "from tensorflow.keras.applications.mobilenet_v2 import preprocess_input as mobilenet_v2_preprocess_input"
   ]
  },
  {
   "cell_type": "code",
   "execution_count": null,
   "outputs": [],
   "source": [
    "model = tf.keras.applications.MobileNetV2(input_shape=(224,224,3), include_top=True,weights='imagenet')"
   ],
   "metadata": {
    "collapsed": false,
    "pycharm": {
     "is_executing": true
    }
   }
  },
  {
   "cell_type": "code",
   "execution_count": null,
   "outputs": [],
   "source": [
    "def load_imagenet_labels(file_path):\n",
    "  labels_file = tf.keras.utils.get_file('ImageNetLabels.txt', file_path)\n",
    "  with open(labels_file) as reader:\n",
    "    f = reader.read()\n",
    "    labels = f.splitlines()\n",
    "  return np.array(labels)\n",
    "imagenet_labels = load_imagenet_labels('https://storage.googleapis.com/download.tensorflow.org/data/ImageNetLabels.txt')"
   ],
   "metadata": {
    "collapsed": false
   }
  },
  {
   "cell_type": "code",
   "execution_count": null,
   "outputs": [],
   "source": [
    "def read_image(file_name):\n",
    "  image = tf.io.read_file(file_name)\n",
    "  image = tf.image.decode_jpeg(image, channels=3)\n",
    "  image = tf.image.convert_image_dtype(image, tf.float32)\n",
    "  image = tf.image.resize_with_pad(image, target_height=224, target_width=224)\n",
    "  return image\n",
    "\n",
    "img = {'Peacock':'Peacock.jpg'}\n",
    "img_name_tensors = {name: read_image(img_path) for (name, img_path) in img.items()}"
   ],
   "metadata": {
    "collapsed": false
   }
  },
  {
   "cell_type": "code",
   "execution_count": null,
   "outputs": [],
   "source": [
    "plt.figure(figsize=(5, 5))\n",
    "ax = plt.subplot(1, 1, 1)\n",
    "ax.imshow(img_name_tensors['Peacock'])\n",
    "ax.set_title(\"Image\")\n",
    "ax.axis('off')\n",
    "plt.tight_layout()"
   ],
   "metadata": {
    "collapsed": false
   }
  },
  {
   "cell_type": "code",
   "execution_count": null,
   "outputs": [],
   "source": [
    "def top_k_predictions(img, k=3):\n",
    "  image = tf.expand_dims(img, 0)\n",
    "  predictions = model(image)\n",
    "  probs = tf.nn.softmax(predictions, axis=-1)\n",
    "  top_probs, top_idxs = tf.math.top_k(input=probs, k=k)\n",
    "  top_labels = np.array(tuple(top_idxs[0]) )\n",
    "  return top_labels, top_probs[0]#Display the image with top 3 prediction from the model\n",
    "plt.imshow(img_name_tensors['Peacock'])\n",
    "plt.title(name, fontweight='bold')\n",
    "plt.axis('off')\n",
    "plt.show()pred_label, pred_prob = top_k_predictions(img_name_tensors['Peacock'])\n",
    "for label, prob in zip(pred_label, pred_prob):\n",
    "    print(f'{imagenet_labels[label+1]}: {prob:0.1%}')"
   ],
   "metadata": {
    "collapsed": false
   }
  },
  {
   "cell_type": "code",
   "execution_count": null,
   "outputs": [],
   "source": [
    "baseline = tf.zeros(shape=(224,224,3))"
   ],
   "metadata": {
    "collapsed": false
   }
  },
  {
   "cell_type": "code",
   "execution_count": null,
   "outputs": [],
   "source": [
    "m_steps=50\n",
    "alphas = tf.linspace(start=0.0, stop=1.0, num=m_steps+1)\n",
    "\n",
    "def interpolate_images(baseline, image, alphas):\n",
    "  alphas_x = alphas[:, tf.newaxis, tf.newaxis, tf.newaxis]\n",
    "  baseline_x = tf.expand_dims(baseline, axis=0)\n",
    "  input_x = tf.expand_dims(image, axis=0)\n",
    "  delta = input_x - baseline_x\n",
    "  images = baseline_x +  alphas_x * delta\n",
    "  return images\n",
    "\n",
    "interpolated_images = interpolate_images(\n",
    "    baseline=baseline,\n",
    "    image=img_name_tensors['Peacock'],\n",
    "    alphas=alphas)"
   ],
   "metadata": {
    "collapsed": false
   }
  },
  {
   "cell_type": "code",
   "execution_count": null,
   "outputs": [],
   "source": [
    "fig = plt.figure(figsize=(20, 20))\n",
    "\n",
    "i = 0\n",
    "\n",
    "for alpha, image in zip(alphas[0::10], interpolated_images[0::10]):\n",
    "  i += 1\n",
    "  plt.subplot(1, len(alphas[0::10]), i)\n",
    "  plt.title(f'alpha: {alpha:.1f}')\n",
    "  plt.imshow(image)\n",
    "  plt.axis('off')\n",
    "\n",
    "plt.tight_layout();"
   ],
   "metadata": {
    "collapsed": false
   }
  },
  {
   "cell_type": "code",
   "execution_count": null,
   "outputs": [],
   "source": [
    "def compute_gradients(images, target_class_idx):\n",
    "\n",
    "  with tf.GradientTape() as tape:\n",
    "    tape.watch(images)\n",
    "    logits = model(images)\n",
    "    probs = tf.nn.softmax(logits, axis=-1)[:, target_class_idx]\n",
    "  return tape.gradient(probs, images)\n",
    "\n",
    "path_gradients = compute_gradients(\n",
    "    images=interpolated_images,\n",
    "    target_class_idx=84)"
   ],
   "metadata": {
    "collapsed": false
   }
  },
  {
   "cell_type": "code",
   "execution_count": null,
   "outputs": [],
   "source": [
    "def integral_approximation(gradients):\n",
    "  # riemann_trapezoidal\n",
    "  grads = (gradients[:-1] + gradients[1:]) / tf.constant(2.0)\n",
    "  integrated_gradients = tf.math.reduce_mean(grads, axis=0)\n",
    "  return integrated_gradients"
   ],
   "metadata": {
    "collapsed": false
   }
  },
  {
   "cell_type": "code",
   "execution_count": null,
   "outputs": [],
   "source": [],
   "metadata": {
    "collapsed": false
   }
  }
 ],
 "metadata": {
  "kernelspec": {
   "display_name": "Python 3",
   "language": "python",
   "name": "python3"
  },
  "language_info": {
   "codemirror_mode": {
    "name": "ipython",
    "version": 2
   },
   "file_extension": ".py",
   "mimetype": "text/x-python",
   "name": "python",
   "nbconvert_exporter": "python",
   "pygments_lexer": "ipython2",
   "version": "2.7.6"
  }
 },
 "nbformat": 4,
 "nbformat_minor": 0
}
